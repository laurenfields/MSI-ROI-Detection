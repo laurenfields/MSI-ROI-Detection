{
 "cells": [
  {
   "cell_type": "code",
   "execution_count": 2,
   "id": "929cf64f-4b87-4b13-8690-72d7c98d8790",
   "metadata": {},
   "outputs": [],
   "source": [
    "# import the necessary packages\n",
    "import numpy as np\n",
    "import imutils\n",
    "import cv2\n",
    "import argparse\n",
    "def align_images(image, template, maxFeatures=500, keepPercent=0.2,\n",
    "\tdebug=False):\n",
    "\t# convert both the input image and template to grayscale\n",
    "\timageGray = cv2.cvtColor(image, cv2.COLOR_BGR2GRAY)\n",
    "\ttemplateGray = cv2.cvtColor(template, cv2.COLOR_BGR2GRAY)\n",
    "\t# use ORB to detect keypoints and extract (binary) local\n",
    "\t# invariant features\n",
    "\torb = cv2.ORB_create(maxFeatures)\n",
    "\t(kpsA, descsA) = orb.detectAndCompute(imageGray, None)\n",
    "\t(kpsB, descsB) = orb.detectAndCompute(templateGray, None)\n",
    "\t# match the features\n",
    "\tmethod = cv2.DESCRIPTOR_MATCHER_BRUTEFORCE_HAMMING\n",
    "\tmatcher = cv2.DescriptorMatcher_create(method)\n",
    "\tmatches = matcher.match(descsA, descsB, None)\n",
    "\t# sort the matches by their distance (the smaller the distance,\n",
    "\t# the \"more similar\" the features are)\n",
    "\tmatches = sorted(matches, key=lambda x:x.distance)\n",
    "\t# keep only the top matches\n",
    "\tkeep = int(len(matches) * keepPercent)\n",
    "\tmatches = matches[:keep]\n",
    "\t# check to see if we should visualize the matched keypoints\n",
    "\tif debug:\n",
    "\t\tmatchedVis = cv2.drawMatches(image, kpsA, template, kpsB,\n",
    "\t\t\tmatches, None)\n",
    "\t\tmatchedVis = imutils.resize(matchedVis, width=1000)\n",
    "\t\tcv2.imshow(\"Matched Keypoints\", matchedVis)\n",
    "\t\tcv2.waitKey(0)\n",
    "\t# allocate memory for the keypoints (x, y)-coordinates from the\n",
    "\t# top matches -- we'll use these coordinates to compute our\n",
    "\t# homography matrix\n",
    "\tptsA = np.zeros((len(matches), 2), dtype=\"float\")\n",
    "\tptsB = np.zeros((len(matches), 2), dtype=\"float\")\n",
    "\t# loop over the top matches\n",
    "\tfor (i, m) in enumerate(matches):\n",
    "\t\t# indicate that the two keypoints in the respective images\n",
    "\t\t# map to each other\n",
    "\t\tptsA[i] = kpsA[m.queryIdx].pt\n",
    "\t\tptsB[i] = kpsB[m.trainIdx].pt\n",
    "\t# compute the homography matrix between the two sets of matched\n",
    "\t# points\n",
    "\t(H, mask) = cv2.findHomography(ptsA, ptsB, method=cv2.RANSAC)\n",
    "\t# use the homography matrix to align the images\n",
    "\t(h, w) = template.shape[:2]\n",
    "\taligned = cv2.warpPerspective(image, H, (w, h))\n",
    "\t# return the aligned image\n",
    "\treturn aligned"
   ]
  },
  {
   "cell_type": "code",
   "execution_count": 3,
   "id": "6cdbc489-3e56-4f08-b7e2-ee985f01ccad",
   "metadata": {},
   "outputs": [
    {
     "name": "stderr",
     "output_type": "stream",
     "text": [
      "usage: ipykernel_launcher.py [-h] -i IMAGE -t TEMPLATE\n",
      "ipykernel_launcher.py: error: the following arguments are required: -i/--image, -t/--template\n"
     ]
    },
    {
     "ename": "SystemExit",
     "evalue": "2",
     "output_type": "error",
     "traceback": [
      "An exception has occurred, use %tb to see the full traceback.\n",
      "\u001b[1;31mSystemExit\u001b[0m\u001b[1;31m:\u001b[0m 2\n"
     ]
    },
    {
     "name": "stderr",
     "output_type": "stream",
     "text": [
      "C:\\Users\\lawashburn\\Anaconda3\\lib\\site-packages\\IPython\\core\\interactiveshell.py:3377: UserWarning: To exit: use 'exit', 'quit', or Ctrl-D.\n",
      "  warn(\"To exit: use 'exit', 'quit', or Ctrl-D.\", stacklevel=1)\n"
     ]
    }
   ],
   "source": [
    "# construct the argument parser and parse the arguments\n",
    "ap = argparse.ArgumentParser()\n",
    "ap.add_argument(\"-i\", \"--image\", required=True,\n",
    "\thelp=\"path to input image that we'll align to template\")\n",
    "ap.add_argument(\"-t\", \"--template\", required=True,\n",
    "\thelp=\"path to input template image\")\n",
    "args = vars(ap.parse_args())"
   ]
  },
  {
   "cell_type": "code",
   "execution_count": null,
   "id": "015b8996-77f3-408a-81aa-1442207fc65d",
   "metadata": {},
   "outputs": [],
   "source": []
  }
 ],
 "metadata": {
  "kernelspec": {
   "display_name": "Python 3 (ipykernel)",
   "language": "python",
   "name": "python3"
  },
  "language_info": {
   "codemirror_mode": {
    "name": "ipython",
    "version": 3
   },
   "file_extension": ".py",
   "mimetype": "text/x-python",
   "name": "python",
   "nbconvert_exporter": "python",
   "pygments_lexer": "ipython3",
   "version": "3.9.12"
  },
  "widgets": {
   "application/vnd.jupyter.widget-state+json": {
    "state": {},
    "version_major": 2,
    "version_minor": 0
   }
  }
 },
 "nbformat": 4,
 "nbformat_minor": 5
}
